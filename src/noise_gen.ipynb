{
 "cells": [
  {
   "cell_type": "code",
   "execution_count": null,
   "metadata": {},
   "outputs": [],
   "source": [
    "try:\n",
    "    import jax.numpy as jnp\n",
    "    from jax import random\n",
    "    import matplotlib.pyplot as plt\n",
    "except ModuleNotFoundError:\n",
    "    !pip install jax matplotlib --quiet"
   ]
  },
  {
   "cell_type": "code",
   "execution_count": null,
   "metadata": {},
   "outputs": [],
   "source": [
    "noise_key, perlin_key, init_key, shuffle_key = random.split(random.PRNGKey(0), 4)\n",
    "image_shape=(1, 64, 64, 3)\n",
    "n_samples = 64\n",
    "\n",
    "gaussian_samples = []\n",
    "poisson_samples = []\n",
    "\n",
    "fig = plt.figure(figsize=(n_samples, 2))\n",
    "\n",
    "for _ in range(n_samples):\n",
    "    noise_key, gaussian_key, poisson_key, intensity_key = random.split(noise_key, 4)\n",
    "\n",
    "    intensity = random.uniform(intensity_key)\n",
    "\n",
    "    gaussian_samples.append(random.normal(gaussian_key, image_shape) * intensity)\n",
    "    poisson_img = random.poisson(poisson_key, intensity, image_shape)\n",
    "\n",
    "    max_val = poisson_img.max()\n",
    "    if max_val > 1e-3:\n",
    "        poisson_img_normalized = poisson_img / max_val\n",
    "    else:\n",
    "        poisson_img_normalized = poisson_img\n",
    "\n",
    "    poisson_samples.append(poisson_img_normalized)\n",
    "\n",
    "gaussian_samples = jnp.array(gaussian_samples)\n",
    "poisson_samples = jnp.array(poisson_samples)\n",
    "\n",
    "all_samples = jnp.concatenate((gaussian_samples, poisson_samples), axis=0)\n",
    "all_labels = jnp.concatenate((jnp.zeros(len(gaussian_samples)), jnp.ones(len(poisson_samples))), axis=0)\n",
    "\n",
    "n_rows = n_samples\n",
    "n_cols = 2\n",
    "\n",
    "fig = plt.figure(figsize=(n_cols * 2, n_rows * 2))\n",
    "\n",
    "for i in range(3):\n",
    "    plt.subplot(n_rows, n_cols, 2 * i + 1)\n",
    "    plt.imshow(gaussian_samples[i].squeeze())\n",
    "    plt.title(f'Gaussian Sample {i+1}')\n",
    "    plt.axis('off')\n",
    "\n",
    "    plt.subplot(n_rows, n_cols, 2 * i + 2)\n",
    "    plt.imshow(poisson_samples[i].squeeze())\n",
    "    plt.title(f'Poisson Sample {i+1}')\n",
    "    plt.axis('off')\n",
    "\n",
    "plt.tight_layout()\n",
    "plt.show()"
   ]
  }
 ],
 "metadata": {
  "kernelspec": {
   "display_name": "Python 3",
   "language": "python",
   "name": "python3"
  },
  "language_info": {
   "name": "python",
   "version": "3.11.7"
  }
 },
 "nbformat": 4,
 "nbformat_minor": 2
}
