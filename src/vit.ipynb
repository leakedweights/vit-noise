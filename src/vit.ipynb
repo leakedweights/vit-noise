{
  "cells": [
    {
      "cell_type": "markdown",
      "metadata": {
        "id": "a4Sv6CvSXnqS"
      },
      "source": [
        "# Vision Transformer for Noise Classification"
      ]
    },
    {
      "cell_type": "markdown",
      "metadata": {
        "id": "hYJRPnxTXrcW"
      },
      "source": [
        "## Imports"
      ]
    },
    {
      "cell_type": "code",
      "execution_count": 1,
      "metadata": {},
      "outputs": [
        {
          "name": "stdout",
          "output_type": "stream",
          "text": [
            "Note: you may need to restart the kernel to use updated packages.\n"
          ]
        }
      ],
      "source": [
        "%pip install jax flax optax matplotlib tqdm torch pillow torchvision numpy --quiet"
      ]
    },
    {
      "cell_type": "code",
      "execution_count": 1,
      "metadata": {
        "id": "t294gJvsSwJ2"
      },
      "outputs": [],
      "source": [
        "import jax\n",
        "import jax.numpy as jnp\n",
        "\n",
        "import flax\n",
        "import flax.linen as nn\n",
        "from jax import random\n",
        "from flax.training.train_state import TrainState\n",
        "\n",
        "import optax\n",
        "\n",
        "import numpy as np\n",
        "\n",
        "from torch.utils.data import DataLoader, Dataset, random_split\n",
        "from torchvision import transforms\n",
        "\n",
        "from PIL import Image\n",
        "\n",
        "import matplotlib.pyplot as plt\n",
        "\n",
        "from typing import Any, Optional\n",
        "from tqdm import tqdm\n",
        "import os"
      ]
    },
    {
      "cell_type": "markdown",
      "metadata": {
        "id": "m7RX15_bW-tl"
      },
      "source": [
        "## Vision Transformer"
      ]
    },
    {
      "cell_type": "code",
      "execution_count": 2,
      "metadata": {
        "id": "BDnjqW-UXfAB"
      },
      "outputs": [],
      "source": [
        "class MLPBlock(nn.Module):\n",
        "  hidden_size: int\n",
        "\n",
        "  @nn.compact\n",
        "  def __call__(self, x):\n",
        "\n",
        "    output_shape =  x.shape[-1]\n",
        "\n",
        "    x = nn.Dense(features=self.hidden_size)(x)\n",
        "    x = nn.gelu(x)\n",
        "    x = nn.Dense(features=output_shape)(x)\n",
        "\n",
        "    return x\n",
        "\n",
        "class EncoderBlock(nn.Module):\n",
        "  n_heads: int\n",
        "  input_size: int\n",
        "  mlp_size: int\n",
        "\n",
        "  @nn.compact\n",
        "  def __call__(self, x):\n",
        "    y = nn.LayerNorm(name='input_norm')(x)\n",
        "    y = nn.MultiHeadDotProductAttention(num_heads=self.n_heads)(x)\n",
        "    x = x + y\n",
        "    norm_output = nn.LayerNorm(name='attention_norm')(x)\n",
        "    y = MLPBlock(hidden_size=self.mlp_size)(x)\n",
        "    return x + y\n",
        "\n",
        "class VisionTransformer(nn.Module):\n",
        "    n_layers: int\n",
        "    n_heads: int\n",
        "    n_classes: int\n",
        "    mlp_size: int\n",
        "    patch_size: int\n",
        "\n",
        "    @nn.compact\n",
        "    def __call__(self, image):\n",
        "        patch_size = self.patch_size\n",
        "\n",
        "        H, W, C = image.shape[1], image.shape[2], image.shape[3]\n",
        "        n_patches = (H // patch_size) * (W // patch_size)\n",
        "\n",
        "        image = image.reshape(image.shape[0], H // patch_size, patch_size, W // patch_size, patch_size, C)\n",
        "        image = image.transpose(0, 1, 3, 2, 4, 5) # align successive pixels\n",
        "        image = image.reshape(image.shape[0], n_patches, -1)\n",
        "\n",
        "        embedding = nn.Dense(image.shape[-1])(image)\n",
        "\n",
        "        pe = self.param('pos_embedding', nn.initializers.normal(), (1, n_patches, image.shape[-1]))\n",
        "        x = embedding + pe\n",
        "\n",
        "        for _ in range(self.n_layers):\n",
        "            x = EncoderBlock(input_size=image.shape[-1],\n",
        "                             n_heads=self.n_heads,\n",
        "                             mlp_size=self.mlp_size)(x)\n",
        "\n",
        "        x = nn.LayerNorm()(x)\n",
        "        x = x.mean(axis=1)\n",
        "        x = nn.Dense(self.n_classes)(x)\n",
        "\n",
        "        return jax.nn.softmax(x)\n"
      ]
    },
    {
      "cell_type": "markdown",
      "metadata": {
        "id": "2NzQ5edyXx0c"
      },
      "source": [
        "## Dataset"
      ]
    },
    {
      "cell_type": "code",
      "execution_count": 3,
      "metadata": {
        "colab": {
          "base_uri": "https://localhost:8080/"
        },
        "id": "vdjpFPpodAqW",
        "outputId": "a5f7c898-7667-41d9-c632-389e484d956f"
      },
      "outputs": [],
      "source": [
        "class NoiseClassificationDataset(Dataset):\n",
        "    \"\"\"Noise classification dataset. Contains 64x64 samples from pseudorandom noises.\"\"\"\n",
        "\n",
        "    def __init__(self, directory='../noise_dataset'):\n",
        "        self.directory = directory\n",
        "        self.filenames = os.listdir(directory)\n",
        "        self.noise_types = list(sorted(set([filename.rsplit('_', 1)[0]\n",
        "                            for filename in self.filenames])))\n",
        "\n",
        "    def __len__(self):\n",
        "        return len(self.filenames)\n",
        "\n",
        "    def __getitem__(self, idx):\n",
        "        img_path = os.path.join(self.directory, self.filenames[idx])\n",
        "        image = Image.open(img_path)\n",
        "        image = image.convert('L')  \n",
        "        image = jnp.array(image).squeeze()\n",
        "        image = jnp.expand_dims(image, -1)\n",
        "        noise_type, _ = self.filenames[idx].rsplit('_', 1)\n",
        "        label = jnp.zeros(len(self.noise_types))\n",
        "        label.at[self.noise_types.index(noise_type)].set(1)\n",
        "        return image, label\n",
        "    \n",
        "    def get_label_count(self):\n",
        "        return len(set(self.noise_types))"
      ]
    },
    {
      "cell_type": "code",
      "execution_count": 4,
      "metadata": {},
      "outputs": [
        {
          "name": "stdout",
          "output_type": "stream",
          "text": [
            "image_shape=(64, 64, 1)\n",
            "n_labels=5\n"
          ]
        },
        {
          "data": {
            "image/png": "[encoded data removed]",
            "text/plain": [
              "<Figure size 640x480 with 1 Axes>"
            ]
          },
          "metadata": {},
          "output_type": "display_data"
        }
      ],
      "source": [
        "dataset = NoiseClassificationDataset()\n",
        "\n",
        "image, label = dataset[0]\n",
        "image_shape = image.shape\n",
        "n_labels = dataset.get_label_count()\n",
        "\n",
        "plt.imshow(image, cmap='gray')\n",
        "print(f'{image_shape=}')\n",
        "print(f'{n_labels=}')"
      ]
    },
    {
      "cell_type": "code",
      "execution_count": 5,
      "metadata": {},
      "outputs": [],
      "source": [
        "dataset = NoiseClassificationDataset()\n",
        "\n",
        "train_size = int(0.8 * len(dataset))\n",
        "validation_size = len(dataset) - train_size\n",
        "\n",
        "train_dataset, validation_dataset = random_split(dataset, [train_size, validation_size])\n",
        "\n",
        "train_loader = DataLoader(train_dataset, batch_size=32, shuffle=True, num_workers=4)\n",
        "eval_loader = DataLoader(validation_dataset, batch_size=32, shuffle=False, num_workers=4)"
      ]
    },
    {
      "cell_type": "markdown",
      "metadata": {
        "id": "j0FYzjN6cnvM"
      },
      "source": [
        "## Training"
      ]
    },
    {
      "cell_type": "code",
      "execution_count": 7,
      "metadata": {},
      "outputs": [],
      "source": [
        "@jax.jit\n",
        "def apply_model(state, inputs, labels):\n",
        "\n",
        "    def loss_fn(params):\n",
        "      eps = 1e-8\n",
        "      logits = state.apply_fn(params, inputs)\n",
        "      onehot = jax.nn.one_hot(labels, num_classes=5)\n",
        "      loss = jnp.mean(optax.softmax_cross_entropy(logits, onehot)) + eps\n",
        "      return loss, logits\n",
        "\n",
        "    grad_fn = jax.value_and_grad(loss_fn, has_aux=True)\n",
        "    (loss, logits), grads = grad_fn(state.params)\n",
        "    accuracy = jnp.mean(jnp.argmax(logits, -1) == labels)\n",
        "    return grads, loss, accuracy\n",
        "\n",
        "\n",
        "@jax.jit\n",
        "def update_model(state, grads):\n",
        "    return state.apply_gradients(grads=grads)"
      ]
    },
    {
      "cell_type": "code",
      "execution_count": 8,
      "metadata": {},
      "outputs": [],
      "source": [
        "def train_step(state, dataloader_train):\n",
        "    epoch_loss = []\n",
        "    epoch_accuracy = []\n",
        "\n",
        "    for inputs, labels in tqdm(dataloader_train, position=0, leave=True):\n",
        "      inputs = inputs.numpy().astype(np.float32)\n",
        "      labels = labels.numpy().astype(np.float32)\n",
        "\n",
        "      grads, loss, accuracy = apply_model(state, inputs, labels)\n",
        "      state = update_model(state, grads)\n",
        "      epoch_loss.append(loss)\n",
        "      epoch_accuracy.append(accuracy)\n",
        "\n",
        "    train_loss = np.mean(epoch_loss)\n",
        "    train_accuracy = np.mean(epoch_accuracy)\n",
        "    return state, train_loss, train_accuracy"
      ]
    },
    {
      "cell_type": "code",
      "execution_count": 9,
      "metadata": {},
      "outputs": [],
      "source": [
        "def eval_step(state, dataloader_eval):\n",
        "    epoch_loss = []\n",
        "    epoch_accuracy = []\n",
        "\n",
        "    for inputs, labels in dataloader_eval:\n",
        "      inputs = inputs.numpy().astype(np.float32)\n",
        "      labels = labels.numpy().astype(np.int32)\n",
        "\n",
        "      _, loss, accuracy = apply_model(state, inputs, labels)\n",
        "      epoch_loss.append(loss)\n",
        "      epoch_accuracy.append(accuracy)\n",
        "\n",
        "    train_loss = np.mean(epoch_loss)\n",
        "    train_accuracy = np.mean(epoch_accuracy)\n",
        "    return train_loss, train_accuracy"
      ]
    },
    {
      "cell_type": "code",
      "execution_count": 10,
      "metadata": {},
      "outputs": [],
      "source": [
        "def create_train_state(key, config):\n",
        "    model = VisionTransformer(n_layers=6, n_heads=8,\n",
        "                              n_classes=n_labels, mlp_size=256, patch_size=8)\n",
        "    init_img = jnp.ones((1,) + image.shape)\n",
        "    params = model.init(key, init_img)\n",
        "\n",
        "    tx = optax.adam(config[\"learning_rate\"])\n",
        "    return TrainState.create(apply_fn=model.apply, params=params, tx=tx)"
      ]
    },
    {
      "cell_type": "code",
      "execution_count": 11,
      "metadata": {},
      "outputs": [],
      "source": [
        "def train_and_evaluate(state, config, dataloader_train, dataloader_eval):\n",
        "    train_losses = []\n",
        "    train_accuracies = []\n",
        "    eval_losses = []\n",
        "    eval_accuracies = []\n",
        "\n",
        "    for epoch in range(1, config[\"n_epochs\"] + 1):\n",
        "        state, train_loss, train_accuracy = train_step(state, dataloader_train)\n",
        "        eval_loss, eval_accuracy = eval_step(state, dataloader_eval)\n",
        "\n",
        "        print(f' Epoch {epoch}: {eval_loss=}, {train_loss=}')\n",
        "\n",
        "        train_losses.append(train_loss)\n",
        "        train_accuracies.append(train_accuracy)\n",
        "        eval_losses.append(eval_loss)\n",
        "        eval_accuracies.append(eval_accuracy)\n",
        "\n",
        "    return state, train_losses, train_accuracies, eval_losses, eval_accuracies"
      ]
    },
    {
      "cell_type": "code",
      "execution_count": 12,
      "metadata": {
        "id": "ivEgSVkQdXRF"
      },
      "outputs": [
        {
          "name": "stderr",
          "output_type": "stream",
          "text": [
            "  0%|          | 0/250 [00:00<?, ?it/s]"
          ]
        }
      ],
      "source": [
        "key = random.PRNGKey(0)\n",
        "\n",
        "config = {\n",
        "    \"learning_rate\": 1e-2,\n",
        "    \"n_epochs\": 20\n",
        "}\n",
        "\n",
        "train_state = create_train_state(key, config)\n",
        "_, tl, ta, el, ea = train_and_evaluate(\n",
        "    train_state, config, train_loader, eval_loader)"
      ]
    }
  ],
  "metadata": {
    "colab": {
      "provenance": []
    },
    "kernelspec": {
      "display_name": "Python 3",
      "name": "python3"
    },
    "language_info": {
      "codemirror_mode": {
        "name": "ipython",
        "version": 3
      },
      "file_extension": ".py",
      "mimetype": "text/x-python",
      "name": "python",
      "nbconvert_exporter": "python",
      "pygments_lexer": "ipython3",
      "version": "3.11.7"
    }
  },
  "nbformat": 4,
  "nbformat_minor": 0
}
